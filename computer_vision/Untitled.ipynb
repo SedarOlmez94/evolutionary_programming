{
 "cells": [
  {
   "cell_type": "code",
   "execution_count": 1,
   "metadata": {},
   "outputs": [],
   "source": [
    "from matplotlib import pyplot\n",
    "import numpy"
   ]
  },
  {
   "cell_type": "code",
   "execution_count": 2,
   "metadata": {},
   "outputs": [],
   "source": [
    "random_image = numpy.random.uniform(low = 0, high = 3, size = (6, 6))\n",
    "random_image = numpy.uint8(random_image)"
   ]
  },
  {
   "cell_type": "code",
   "execution_count": 3,
   "metadata": {},
   "outputs": [],
   "source": [
    "histogram = numpy.histogram(random_image, bins = 4)"
   ]
  },
  {
   "cell_type": "code",
   "execution_count": 4,
   "metadata": {},
   "outputs": [
    {
     "name": "stderr",
     "output_type": "stream",
     "text": [
      "/Users/sedarolmez/anaconda/lib/python3.5/site-packages/matplotlib/__init__.py:1710: MatplotlibDeprecationWarning: The *left* kwarg to `bar` is deprecated use *x* instead. Support for *left* will be removed in Matplotlib 3.0\n",
      "  return func(ax, *args, **kwargs)\n"
     ]
    },
    {
     "data": {
      "text/plain": [
       "<Container object of 4 artists>"
      ]
     },
     "execution_count": 4,
     "metadata": {},
     "output_type": "execute_result"
    }
   ],
   "source": [
    "pyplot.bar(left = [0, 1, 2, 3], height = histogram[0], align = \"center\", width = 0.3)"
   ]
  },
  {
   "cell_type": "code",
   "execution_count": 5,
   "metadata": {},
   "outputs": [
    {
     "data": {
      "text/plain": [
       "([<matplotlib.axis.YTick at 0x109653a90>,\n",
       "  <matplotlib.axis.YTick at 0x109653ac8>,\n",
       "  <matplotlib.axis.YTick at 0x10966beb8>,\n",
       "  <matplotlib.axis.YTick at 0x10dfed860>,\n",
       "  <matplotlib.axis.YTick at 0x10dfedef0>,\n",
       "  <matplotlib.axis.YTick at 0x10dfded68>,\n",
       "  <matplotlib.axis.YTick at 0x109668588>,\n",
       "  <matplotlib.axis.YTick at 0x107728e80>],\n",
       " <a list of 8 Text yticklabel objects>)"
      ]
     },
     "execution_count": 5,
     "metadata": {},
     "output_type": "execute_result"
    }
   ],
   "source": [
    "pyplot.xticks([0, 1, 2, 3], fontsize = 20)\n",
    "pyplot.yticks(numpy.arange(0, 15, 2), fontsize = 20)"
   ]
  },
  {
   "cell_type": "code",
   "execution_count": 8,
   "metadata": {},
   "outputs": [
    {
     "data": {
      "image/png": "[encoded data removed]",
      "text/plain": [
       "<matplotlib.figure.Figure at 0x1095dc908>"
      ]
     },
     "metadata": {},
     "output_type": "display_data"
    }
   ],
   "source": [
    "pyplot.show()"
   ]
  },
  {
   "cell_type": "code",
   "execution_count": 34,
   "metadata": {},
   "outputs": [],
   "source": [
    "import skimage.feature"
   ]
  },
  {
   "cell_type": "code",
   "execution_count": 35,
   "metadata": {},
   "outputs": [],
   "source": [
    "array = numpy.array([\n",
    "    [3, 2, 2, 0, 3],\n",
    "    [1, 3, 0, 2, 2],\n",
    "    [2, 2, 2, 2, 3],\n",
    "    [3, 3, 3, 2, 3],\n",
    "    [0, 2, 3, 2, 2]])"
   ]
  },
  {
   "cell_type": "code",
   "execution_count": 37,
   "metadata": {},
   "outputs": [],
   "source": [
    "clmt = skimage.feature.greycomatrix(image = array, distances = [1], angles = [0], levels = 4)"
   ]
  },
  {
   "cell_type": "code",
   "execution_count": 43,
   "metadata": {},
   "outputs": [
    {
     "data": {
      "text/plain": [
       "array([[[[0]],\n",
       "\n",
       "        [[0]],\n",
       "\n",
       "        [[2]],\n",
       "\n",
       "        [[1]]],\n",
       "\n",
       "\n",
       "       [[[0]],\n",
       "\n",
       "        [[0]],\n",
       "\n",
       "        [[0]],\n",
       "\n",
       "        [[1]]],\n",
       "\n",
       "\n",
       "       [[[1]],\n",
       "\n",
       "        [[0]],\n",
       "\n",
       "        [[6]],\n",
       "\n",
       "        [[3]]],\n",
       "\n",
       "\n",
       "       [[[1]],\n",
       "\n",
       "        [[0]],\n",
       "\n",
       "        [[3]],\n",
       "\n",
       "        [[2]]]], dtype=uint32)"
      ]
     },
     "execution_count": 43,
     "metadata": {},
     "output_type": "execute_result"
    }
   ],
   "source": [
    "clmt"
   ]
  },
  {
   "cell_type": "markdown",
   "metadata": {},
   "source": [
    "```\n",
    "0, 0, 2, 1\n",
    "0, 0, 0, 1\n",
    "1, 0, 6, 3\n",
    "1, 0, 3, 2\n",
    "```"
   ]
  },
  {
   "cell_type": "code",
   "execution_count": 45,
   "metadata": {},
   "outputs": [
    {
     "data": {
      "text/plain": [
       "(4, 4, 1, 1)"
      ]
     },
     "execution_count": 45,
     "metadata": {},
     "output_type": "execute_result"
    }
   ],
   "source": [
    "clmt.shape"
   ]
  },
  {
   "cell_type": "code",
   "execution_count": 46,
   "metadata": {},
   "outputs": [],
   "source": [
    "co_mat = skimage.feature.greycomatrix(image = array, distances = [1, 4], \n",
    "                                     angles = [0, 45, 90], levels = 4)"
   ]
  },
  {
   "cell_type": "code",
   "execution_count": 47,
   "metadata": {},
   "outputs": [
    {
     "data": {
      "text/plain": [
       "array([[[[0, 0, 0],\n",
       "         [0, 0, 0]],\n",
       "\n",
       "        [[0, 0, 0],\n",
       "         [0, 0, 0]],\n",
       "\n",
       "        [[2, 2, 2],\n",
       "         [1, 1, 1]],\n",
       "\n",
       "        [[1, 0, 0],\n",
       "         [0, 0, 0]]],\n",
       "\n",
       "\n",
       "       [[[0, 0, 0],\n",
       "         [0, 0, 0]],\n",
       "\n",
       "        [[0, 0, 0],\n",
       "         [0, 0, 0]],\n",
       "\n",
       "        [[0, 1, 1],\n",
       "         [1, 0, 0]],\n",
       "\n",
       "        [[1, 0, 0],\n",
       "         [0, 1, 0]]],\n",
       "\n",
       "\n",
       "       [[[1, 1, 1],\n",
       "         [0, 0, 1]],\n",
       "\n",
       "        [[0, 0, 0],\n",
       "         [0, 0, 0]],\n",
       "\n",
       "        [[6, 3, 3],\n",
       "         [0, 1, 0]],\n",
       "\n",
       "        [[3, 4, 5],\n",
       "         [1, 1, 0]]],\n",
       "\n",
       "\n",
       "       [[[1, 0, 1],\n",
       "         [0, 0, 0]],\n",
       "\n",
       "        [[0, 0, 1],\n",
       "         [0, 0, 0]],\n",
       "\n",
       "        [[3, 3, 4],\n",
       "         [0, 1, 0]],\n",
       "\n",
       "        [[2, 2, 2],\n",
       "         [2, 1, 1]]]], dtype=uint32)"
      ]
     },
     "execution_count": 47,
     "metadata": {},
     "output_type": "execute_result"
    }
   ],
   "source": [
    "co_mat"
   ]
  },
  {
   "cell_type": "code",
   "execution_count": 51,
   "metadata": {},
   "outputs": [
    {
     "data": {
      "text/plain": [
       "(4, 4, 2, 3)"
      ]
     },
     "execution_count": 51,
     "metadata": {},
     "output_type": "execute_result"
    }
   ],
   "source": [
    "co_mat.shape"
   ]
  },
  {
   "cell_type": "code",
   "execution_count": 52,
   "metadata": {},
   "outputs": [
    {
     "data": {
      "text/plain": [
       "array([[0, 0, 2, 1],\n",
       "       [0, 0, 0, 1],\n",
       "       [1, 0, 6, 3],\n",
       "       [1, 0, 3, 2]], dtype=uint32)"
      ]
     },
     "execution_count": 52,
     "metadata": {},
     "output_type": "execute_result"
    }
   ],
   "source": [
    "co_mat[:, :, 0, 0]"
   ]
  },
  {
   "cell_type": "markdown",
   "metadata": {},
   "source": [
    "Because there are now 2 distances and 3 angles, the total number returned GLCMs is 2 * 3 = 6. To return the GLCM at `distance 1` and angle 0(degrees), the indexing would be `co_mat[:, :, 0, 0]` this returns the complete 4 * 4 GLCM, but only for `distance(1)` and first `angle (0)`. To return the GLCM corresponding to `distance 4` and `angle 90`, the indexing will be as follows:\n",
    "`co_mat[:, :, 1, 2]`"
   ]
  },
  {
   "cell_type": "markdown",
   "metadata": {},
   "source": [
    "The previously calculated GLCMs are useful for learning how many times each intensity\n",
    "level co-occurs with each other. We can benefit from such information to predict\n",
    "the probability of co-occurrence between each two intensity levels. One benefit from normalizing the GLCM is that all elements in the output matrix\n",
    "are in the same scale from 0.0 to 1.0."
   ]
  },
  {
   "cell_type": "code",
   "execution_count": 49,
   "metadata": {},
   "outputs": [],
   "source": [
    "co_mat_normalised = skimage.feature.greycomatrix(image = array, distances = [1],\n",
    "                                                angles = [0], levels = 4, normed = True)"
   ]
  },
  {
   "cell_type": "code",
   "execution_count": 50,
   "metadata": {},
   "outputs": [
    {
     "data": {
      "text/plain": [
       "array([[ 0.  ,  0.  ,  0.1 ,  0.05],\n",
       "       [ 0.  ,  0.  ,  0.  ,  0.05],\n",
       "       [ 0.05,  0.  ,  0.3 ,  0.15],\n",
       "       [ 0.05,  0.  ,  0.15,  0.1 ]])"
      ]
     },
     "execution_count": 50,
     "metadata": {},
     "output_type": "execute_result"
    }
   ],
   "source": [
    "co_mat_normalised[:,:,0,0]"
   ]
  },
  {
   "cell_type": "code",
   "execution_count": null,
   "metadata": {},
   "outputs": [],
   "source": []
  }
 ],
 "metadata": {
  "kernelspec": {
   "display_name": "Python [conda root]",
   "language": "python",
   "name": "conda-root-py"
  },
  "language_info": {
   "codemirror_mode": {
    "name": "ipython",
    "version": 3
   },
   "file_extension": ".py",
   "mimetype": "text/x-python",
   "name": "python",
   "nbconvert_exporter": "python",
   "pygments_lexer": "ipython3",
   "version": "3.5.4"
  }
 },
 "nbformat": 4,
 "nbformat_minor": 2
}
